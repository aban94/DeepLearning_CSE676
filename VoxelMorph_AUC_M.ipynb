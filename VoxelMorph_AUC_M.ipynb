{
  "cells": [
    {
      "cell_type": "markdown",
      "metadata": {
        "id": "view-in-github",
        "colab_type": "text"
      },
      "source": [
        "<a href=\"https://colab.research.google.com/github/aban94/DeepLearning_CSE676/blob/main/VoxelMorph_AUC_M.ipynb\" target=\"_parent\"><img src=\"https://colab.research.google.com/assets/colab-badge.svg\" alt=\"Open In Colab\"/></a>"
      ]
    },
    {
      "cell_type": "code",
      "execution_count": null,
      "metadata": {
        "id": "QBYC_eR_2d4F"
      },
      "outputs": [],
      "source": [
        "#!git clone https://github.com/voxelmorph/voxelmorph.git"
      ]
    },
    {
      "cell_type": "code",
      "source": [
        "from google.colab import drive\n",
        "drive.mount('/content/drive')"
      ],
      "metadata": {
        "colab": {
          "base_uri": "https://localhost:8080/"
        },
        "id": "LpGBCVhgwyt6",
        "outputId": "a6cea646-31db-4b5f-be35-e21f544dd3ca"
      },
      "execution_count": null,
      "outputs": [
        {
          "output_type": "stream",
          "name": "stdout",
          "text": [
            "Mounted at /content/drive\n"
          ]
        }
      ]
    },
    {
      "cell_type": "code",
      "execution_count": null,
      "metadata": {
        "colab": {
          "base_uri": "https://localhost:8080/"
        },
        "id": "lgkc00hQNItW",
        "outputId": "6f045a50-1ace-4451-f6a9-8a4d1c4cfd17"
      },
      "outputs": [
        {
          "output_type": "stream",
          "name": "stdout",
          "text": [
            "/content/drive/MyDrive/Deep Learning Project/Voxelmorph/voxelmorph/voxelmorph/py\n"
          ]
        }
      ],
      "source": [
        "%cd /content/drive/MyDrive/Deep Learning Project/Voxelmorph/voxelmorph/voxelmorph/py"
      ]
    },
    {
      "cell_type": "code",
      "execution_count": null,
      "metadata": {
        "id": "hk9V-750infQ"
      },
      "outputs": [],
      "source": [
        "#!ls"
      ]
    },
    {
      "cell_type": "code",
      "execution_count": null,
      "metadata": {
        "colab": {
          "base_uri": "https://localhost:8080/"
        },
        "id": "mYTUDvuKRfj4",
        "outputId": "500fef19-4439-43a1-c8a4-36a8ed56089a"
      },
      "outputs": [
        {
          "output_type": "stream",
          "name": "stdout",
          "text": [
            "Requirement already satisfied: voxelmorph in /usr/local/lib/python3.7/dist-packages (0.1)\n",
            "Requirement already satisfied: scipy in /usr/local/lib/python3.7/dist-packages (from voxelmorph) (1.4.1)\n",
            "Requirement already satisfied: h5py in /usr/local/lib/python3.7/dist-packages (from voxelmorph) (3.1.0)\n",
            "Requirement already satisfied: nibabel in /usr/local/lib/python3.7/dist-packages (from voxelmorph) (3.0.2)\n",
            "Requirement already satisfied: neurite in /usr/local/lib/python3.7/dist-packages (from voxelmorph) (0.1)\n",
            "Requirement already satisfied: numpy in /usr/local/lib/python3.7/dist-packages (from voxelmorph) (1.21.6)\n",
            "Requirement already satisfied: scikit-image in /usr/local/lib/python3.7/dist-packages (from voxelmorph) (0.18.3)\n",
            "Requirement already satisfied: cached-property in /usr/local/lib/python3.7/dist-packages (from h5py->voxelmorph) (1.5.2)\n",
            "Requirement already satisfied: tqdm in /usr/local/lib/python3.7/dist-packages (from neurite->voxelmorph) (4.64.0)\n",
            "Requirement already satisfied: scikit-learn in /usr/local/lib/python3.7/dist-packages (from neurite->voxelmorph) (1.0.2)\n",
            "Requirement already satisfied: pystrum in /usr/local/lib/python3.7/dist-packages (from neurite->voxelmorph) (0.1)\n",
            "Requirement already satisfied: six in /usr/local/lib/python3.7/dist-packages (from neurite->voxelmorph) (1.15.0)\n",
            "Requirement already satisfied: matplotlib in /usr/local/lib/python3.7/dist-packages (from neurite->voxelmorph) (3.2.2)\n",
            "Requirement already satisfied: kiwisolver>=1.0.1 in /usr/local/lib/python3.7/dist-packages (from matplotlib->neurite->voxelmorph) (1.4.2)\n",
            "Requirement already satisfied: pyparsing!=2.0.4,!=2.1.2,!=2.1.6,>=2.0.1 in /usr/local/lib/python3.7/dist-packages (from matplotlib->neurite->voxelmorph) (3.0.8)\n",
            "Requirement already satisfied: cycler>=0.10 in /usr/local/lib/python3.7/dist-packages (from matplotlib->neurite->voxelmorph) (0.11.0)\n",
            "Requirement already satisfied: python-dateutil>=2.1 in /usr/local/lib/python3.7/dist-packages (from matplotlib->neurite->voxelmorph) (2.8.2)\n",
            "Requirement already satisfied: typing-extensions in /usr/local/lib/python3.7/dist-packages (from kiwisolver>=1.0.1->matplotlib->neurite->voxelmorph) (4.2.0)\n",
            "Requirement already satisfied: pillow!=7.1.0,!=7.1.1,>=4.3.0 in /usr/local/lib/python3.7/dist-packages (from scikit-image->voxelmorph) (7.1.2)\n",
            "Requirement already satisfied: tifffile>=2019.7.26 in /usr/local/lib/python3.7/dist-packages (from scikit-image->voxelmorph) (2021.11.2)\n",
            "Requirement already satisfied: imageio>=2.3.0 in /usr/local/lib/python3.7/dist-packages (from scikit-image->voxelmorph) (2.4.1)\n",
            "Requirement already satisfied: networkx>=2.0 in /usr/local/lib/python3.7/dist-packages (from scikit-image->voxelmorph) (2.6.3)\n",
            "Requirement already satisfied: PyWavelets>=1.1.1 in /usr/local/lib/python3.7/dist-packages (from scikit-image->voxelmorph) (1.3.0)\n",
            "Requirement already satisfied: joblib>=0.11 in /usr/local/lib/python3.7/dist-packages (from scikit-learn->neurite->voxelmorph) (1.1.0)\n",
            "Requirement already satisfied: threadpoolctl>=2.0.0 in /usr/local/lib/python3.7/dist-packages (from scikit-learn->neurite->voxelmorph) (3.1.0)\n"
          ]
        }
      ],
      "source": [
        "!pip install voxelmorph"
      ]
    },
    {
      "cell_type": "code",
      "execution_count": null,
      "metadata": {
        "id": "BDSdMzGk1g5N"
      },
      "outputs": [],
      "source": [
        "#!/usr/bin/env python\n",
        "\n",
        "\"\"\"\n",
        "Example script to train a VoxelMorph model.\n",
        "You will likely have to customize this script slightly to accommodate your own data. All images\n",
        "should be appropriately cropped and scaled to values between 0 and 1.\n",
        "If an atlas file is provided with the --atlas flag, then scan-to-atlas training is performed.\n",
        "Otherwise, registration will be scan-to-scan.\n",
        "If you use this code, please cite the following, and read function docs for further info/citations.\n",
        "    VoxelMorph: A Learning Framework for Deformable Medical Image Registration G. Balakrishnan, A.\n",
        "    Zhao, M. R. Sabuncu, J. Guttag, A.V. Dalca. IEEE TMI: Transactions on Medical Imaging. 38(8). pp\n",
        "    1788-1800. 2019. \n",
        "    or\n",
        "    Unsupervised Learning for Probabilistic Diffeomorphic Registration for Images and Surfaces\n",
        "    A.V. Dalca, G. Balakrishnan, J. Guttag, M.R. Sabuncu. \n",
        "    MedIA: Medical Image Analysis. (57). pp 226-236, 2019 \n",
        "Copyright 2020 Adrian V. Dalca\n",
        "Licensed under the Apache License, Version 2.0 (the \"License\"); you may not use this file except in\n",
        "compliance with the License. You may obtain a copy of the License at\n",
        "http://www.apache.org/licenses/LICENSE-2.0\n",
        "Unless required by applicable law or agreed to in writing, software distributed under the License is\n",
        "distributed on an \"AS IS\" BASIS, WITHOUT WARRANTIES OR CONDITIONS OF ANY KIND, either express or\n",
        "implied. See the License for the specific language governing permissions and limitations under the\n",
        "License.\n",
        "\"\"\"\n",
        "\n",
        "import os\n",
        "import random\n",
        "import argparse\n",
        "import time\n",
        "import numpy as np\n",
        "import torch\n",
        "import copy\n",
        "\n",
        "# import voxelmorph with pytorch backend\n",
        "os.environ['VXM_BACKEND'] = 'pytorch'\n",
        "import voxelmorph as vxm  # nopep8\n",
        "import torchvision\n",
        "import torchvision.datasets as datasets\n",
        "from IPython import embed\n",
        "import neurite as ne\n",
        "import utils"
      ]
    },
    {
      "cell_type": "code",
      "execution_count": null,
      "metadata": {
        "id": "cMrDbg6A2c5Q"
      },
      "outputs": [],
      "source": [
        "\n",
        "class args():\n",
        "  load_model=False\n",
        "  atlas = False\n",
        "  gpu = 0\n",
        "  batch_size = 1\n",
        "  bidir = False\n",
        "  multichannel = False\n",
        "  image_loss = 'mse'\n",
        "  lr = 0.001\n",
        "  int_downsize = 1\n",
        "  weight = 0.01\n",
        "  epochs = 1\n",
        "  steps_per_epoch = 5\n",
        "  \n",
        "\n",
        "bidir = args.bidir\n"
      ]
    },
    {
      "cell_type": "markdown",
      "metadata": {
        "id": "b7X6k38EMnf5"
      },
      "source": [
        "#Loading and readying dataset"
      ]
    },
    {
      "cell_type": "code",
      "execution_count": null,
      "metadata": {
        "id": "XjNsRRpsMcY8"
      },
      "outputs": [],
      "source": [
        "import cv2"
      ]
    },
    {
      "cell_type": "code",
      "execution_count": null,
      "metadata": {
        "id": "JG0CJKIXMWG4"
      },
      "outputs": [],
      "source": [
        "mnist_trainset = datasets.MNIST(root='./data', train=True, download=True, transform=None)\n",
        "mnist_testset = datasets.MNIST(root='./data', train=False, download=True, transform=None)"
      ]
    },
    {
      "cell_type": "code",
      "execution_count": null,
      "metadata": {
        "id": "he8PhLxTgKR2"
      },
      "outputs": [],
      "source": [
        "\n",
        "def get_5(dataset):\n",
        "  c_dataset = copy.deepcopy(dataset)\n",
        "  idx = c_dataset.targets==5\n",
        "  c_dataset.targets = c_dataset.targets[idx]\n",
        "  c_dataset.data = c_dataset.data[idx]\n",
        "  return c_dataset\n",
        "mnist_trainset_5 = get_5(mnist_trainset)\n",
        "mnist_testset_5 = get_5(mnist_testset)\n",
        "x_train, y_train, x_test, y_test = mnist_trainset_5.data, mnist_trainset_5.targets, mnist_testset_5.data, mnist_testset_5.targets\n",
        "x_train = x_train.numpy()\n",
        "y_train = y_train.numpy()\n",
        "x_test = x_test.numpy()\n",
        "y_test = y_test.numpy()\n",
        "\n"
      ]
    },
    {
      "cell_type": "code",
      "execution_count": null,
      "metadata": {
        "id": "cwmgqfUxC1dh"
      },
      "outputs": [],
      "source": [
        "im_num=0\n",
        "file_list = \"\"\n",
        "for img in x_test[:100]:\n",
        "  im_num +=1\n",
        "  file_list += \"/content/images_100/{}.jpg\\n/content/images_100/moved_image.jpg\\n\".format(im_num)\n",
        "  cv2.imwrite('/content/images_100/{}.jpg'.format(im_num),img)\n"
      ]
    },
    {
      "cell_type": "code",
      "execution_count": null,
      "metadata": {
        "id": "tpxG9vc7JAeh"
      },
      "outputs": [],
      "source": [
        "# file_list\n",
        "f = open(\"img_list.txt\", \"a\")\n",
        "f.write(file_list)\n",
        "f.close()"
      ]
    },
    {
      "cell_type": "code",
      "execution_count": null,
      "metadata": {
        "id": "-BmHNB44NVNs"
      },
      "outputs": [],
      "source": [
        "#getting val set from train set\n",
        "nb_val = 1000  # keep 1,000 subjects for validation\n",
        "x_val = x_train[-nb_val:, ...]  # this indexing means \"the last nb_val entries\" of the zeroth axis\n",
        "y_val = y_train[-nb_val:]\n",
        "x_train = x_train[:-nb_val, ...]\n",
        "y_train = y_train[:-nb_val]"
      ]
    },
    {
      "cell_type": "code",
      "execution_count": null,
      "metadata": {
        "colab": {
          "base_uri": "https://localhost:8080/"
        },
        "id": "YelsfA8aM0EJ",
        "outputId": "6056b7f6-e143-4644-d873-ff137486b485"
      },
      "outputs": [
        {
          "output_type": "execute_result",
          "data": {
            "text/plain": [
              "((4421, 28, 28), (4421,), (1000, 28, 28), (1000,), (892, 28, 28), (892,))"
            ]
          },
          "metadata": {},
          "execution_count": 11
        }
      ],
      "source": [
        "x_train.shape,y_train.shape,x_val.shape,y_val.shape,x_test.shape,y_test.shape"
      ]
    },
    {
      "cell_type": "code",
      "execution_count": null,
      "metadata": {
        "colab": {
          "base_uri": "https://localhost:8080/",
          "height": 203
        },
        "id": "KsY2BNTINt8K",
        "outputId": "eb7728f7-8fa2-45fd-d096-989c54dbf3b1"
      },
      "outputs": [
        {
          "output_type": "display_data",
          "data": {
            "text/plain": [
              "<Figure size 1080x216 with 10 Axes>"
            ],
            "image/png": "[encoded data removed]"
          },
          "metadata": {
            "needs_background": "light"
          }
        }
      ],
      "source": [
        "nb_vis = 5\n",
        "\n",
        "# choose nb_vis sample indexes\n",
        "idx = np.random.choice(x_train.shape[0], nb_vis, replace=False)\n",
        "example_digits = [f for f in x_train[idx, ...]]\n",
        "\n",
        "# plot\n",
        "ne.plot.slices(example_digits, cmaps=['gray'], do_colorbars=True);"
      ]
    },
    {
      "cell_type": "code",
      "execution_count": null,
      "metadata": {
        "colab": {
          "base_uri": "https://localhost:8080/"
        },
        "id": "0UZ1Tr05Orx0",
        "outputId": "4ab23124-10df-4144-cafb-fcd1932e0283"
      },
      "outputs": [
        {
          "output_type": "stream",
          "name": "stdout",
          "text": [
            "training maximum value 1.0\n"
          ]
        }
      ],
      "source": [
        "# fix data\n",
        "x_train = x_train.astype('float')/255\n",
        "x_val = x_val.astype('float')/255\n",
        "x_test = x_test.astype('float')/255\n",
        "\n",
        "# verify\n",
        "print('training maximum value', x_train.max())"
      ]
    },
    {
      "cell_type": "code",
      "execution_count": null,
      "metadata": {
        "colab": {
          "base_uri": "https://localhost:8080/",
          "height": 209
        },
        "id": "5ImrInLxPSG0",
        "outputId": "410f6df9-682b-49c6-99b0-75935326b175"
      },
      "outputs": [
        {
          "output_type": "display_data",
          "data": {
            "text/plain": [
              "<Figure size 1080x216 with 10 Axes>"
            ],
            "image/png": "[encoded data removed]"
          },
          "metadata": {
            "needs_background": "light"
          }
        }
      ],
      "source": [
        "# re-visualize\n",
        "example_digits = [f for f in x_train[idx, ...]]\n",
        "ne.plot.slices(example_digits, cmaps=['gray'], do_colorbars=True);"
      ]
    },
    {
      "cell_type": "code",
      "execution_count": null,
      "metadata": {
        "colab": {
          "base_uri": "https://localhost:8080/"
        },
        "id": "px3sC0KwPZ-E",
        "outputId": "766b9025-c6c3-4880-de01-eb1d7fe52b4b"
      },
      "outputs": [
        {
          "output_type": "stream",
          "name": "stdout",
          "text": [
            "shape of training data (4421, 32, 32)\n"
          ]
        }
      ],
      "source": [
        "pad_amount = ((0, 0), (2,2), (2,2))\n",
        "\n",
        "# fix data\n",
        "x_train = np.pad(x_train, pad_amount, 'constant')\n",
        "x_val = np.pad(x_val, pad_amount, 'constant')\n",
        "x_test = np.pad(x_test, pad_amount, 'constant')\n",
        "\n",
        "# verify\n",
        "print('shape of training data', x_train.shape)"
      ]
    },
    {
      "cell_type": "markdown",
      "metadata": {
        "id": "SfbBsgLKPdIt"
      },
      "source": [
        "#CNN Model\n",
        "\n"
      ]
    },
    {
      "cell_type": "code",
      "execution_count": null,
      "metadata": {
        "id": "4OU2719rpcII"
      },
      "outputs": [],
      "source": [
        "import torch\n",
        "import torch.nn as nn"
      ]
    },
    {
      "cell_type": "code",
      "execution_count": null,
      "metadata": {
        "id": "MZnyiyzMihco"
      },
      "outputs": [],
      "source": [
        "# configure unet input shape (concatenation of moving and fixed images)\n",
        "ndim = 2\n",
        "unet_input_features = 2\n",
        "inshape = (*x_train.shape[1:], unet_input_features)\n",
        "\n",
        "# configure unet features \n",
        "nb_features = [\n",
        "    [32, 32, 32, 32],         # encoder features\n",
        "    [32, 32, 32, 32, 32, 16]  # decoder features\n",
        "]\n",
        "enc_nf=[32, 32, 32, 32]\n",
        "dec_nf=[32, 32, 32, 32, 32, 16]\n",
        "\n",
        "# # build model\n",
        "unet = vxm.networks.Unet(inshape=inshape, nb_features=nb_features)\n"
      ]
    },
    {
      "cell_type": "code",
      "execution_count": null,
      "metadata": {
        "colab": {
          "base_uri": "https://localhost:8080/"
        },
        "id": "2DZKgTDDVd6t",
        "outputId": "c2152b04-e3f5-4471-a7b9-e03cee3b7640"
      },
      "outputs": [
        {
          "output_type": "execute_result",
          "data": {
            "text/plain": [
              "Unet(\n",
              "  (upsample): Upsample(scale_factor=2.0, mode=nearest)\n",
              "  (downarm): ModuleList(\n",
              "    (0): ConvBlock(\n",
              "      (main): Conv3d(2, 32, kernel_size=(3, 3, 3), stride=(2, 2, 2), padding=(1, 1, 1))\n",
              "      (activation): LeakyReLU(negative_slope=0.2)\n",
              "    )\n",
              "    (1): ConvBlock(\n",
              "      (main): Conv3d(32, 32, kernel_size=(3, 3, 3), stride=(2, 2, 2), padding=(1, 1, 1))\n",
              "      (activation): LeakyReLU(negative_slope=0.2)\n",
              "    )\n",
              "    (2): ConvBlock(\n",
              "      (main): Conv3d(32, 32, kernel_size=(3, 3, 3), stride=(2, 2, 2), padding=(1, 1, 1))\n",
              "      (activation): LeakyReLU(negative_slope=0.2)\n",
              "    )\n",
              "    (3): ConvBlock(\n",
              "      (main): Conv3d(32, 32, kernel_size=(3, 3, 3), stride=(2, 2, 2), padding=(1, 1, 1))\n",
              "      (activation): LeakyReLU(negative_slope=0.2)\n",
              "    )\n",
              "  )\n",
              "  (uparm): ModuleList(\n",
              "    (0): ConvBlock(\n",
              "      (main): Conv3d(32, 32, kernel_size=(3, 3, 3), stride=(1, 1, 1), padding=(1, 1, 1))\n",
              "      (activation): LeakyReLU(negative_slope=0.2)\n",
              "    )\n",
              "    (1): ConvBlock(\n",
              "      (main): Conv3d(64, 32, kernel_size=(3, 3, 3), stride=(1, 1, 1), padding=(1, 1, 1))\n",
              "      (activation): LeakyReLU(negative_slope=0.2)\n",
              "    )\n",
              "    (2): ConvBlock(\n",
              "      (main): Conv3d(64, 32, kernel_size=(3, 3, 3), stride=(1, 1, 1), padding=(1, 1, 1))\n",
              "      (activation): LeakyReLU(negative_slope=0.2)\n",
              "    )\n",
              "    (3): ConvBlock(\n",
              "      (main): Conv3d(64, 32, kernel_size=(3, 3, 3), stride=(1, 1, 1), padding=(1, 1, 1))\n",
              "      (activation): LeakyReLU(negative_slope=0.2)\n",
              "    )\n",
              "  )\n",
              "  (extras): ModuleList(\n",
              "    (0): ConvBlock(\n",
              "      (main): Conv3d(34, 32, kernel_size=(3, 3, 3), stride=(1, 1, 1), padding=(1, 1, 1))\n",
              "      (activation): LeakyReLU(negative_slope=0.2)\n",
              "    )\n",
              "    (1): ConvBlock(\n",
              "      (main): Conv3d(32, 16, kernel_size=(3, 3, 3), stride=(1, 1, 1), padding=(1, 1, 1))\n",
              "      (activation): LeakyReLU(negative_slope=0.2)\n",
              "    )\n",
              "  )\n",
              ")"
            ]
          },
          "metadata": {},
          "execution_count": 18
        }
      ],
      "source": [
        "unet"
      ]
    },
    {
      "cell_type": "code",
      "execution_count": null,
      "metadata": {
        "id": "9dRc0idbUgUp"
      },
      "outputs": [],
      "source": [
        "# print('input shape: ', unet.input.shape)\n",
        "# print('output shape:', unet.output.shape)\n",
        "input_shape = (None, 32, 32, 2)\n",
        "output_shape = (None,32,32,16)\n"
      ]
    },
    {
      "cell_type": "code",
      "execution_count": null,
      "metadata": {
        "colab": {
          "base_uri": "https://localhost:8080/"
        },
        "id": "gRvqaaAhmG9Q",
        "outputId": "57430c83-d69b-4f57-ff83-9b386a30f7cd"
      },
      "outputs": [
        {
          "output_type": "stream",
          "name": "stdout",
          "text": [
            "Conv2d(1024, 2, kernel_size=(3, 3), stride=(1, 1), padding=same)\n"
          ]
        }
      ],
      "source": [
        "# transform the results into a flow field.\n",
        "# disp_tensor = tf.keras.layers.Conv2D(ndim, kernel_size=3, padding='same', name='disp')(unet.output)\n",
        "disp_tensor = nn.Conv2d(32*32, ndim, kernel_size=3, stride=1, padding='same')\n",
        "# check tensor shape\n",
        "# print('displacement tensor:', disp_tensor.shape)\n",
        "print(disp_tensor)\n",
        "# using keras, we can easily form new models via tensor pointers\n",
        "# def_model = tf.keras.models.Model(unet.inputs, disp_tensor)"
      ]
    },
    {
      "cell_type": "code",
      "execution_count": null,
      "metadata": {
        "id": "zwecTalPh_gI"
      },
      "outputs": [],
      "source": [
        "# vxm.layers.SpatialTransformer()"
      ]
    },
    {
      "cell_type": "code",
      "execution_count": null,
      "metadata": {
        "id": "RbR6BMjWUfAP"
      },
      "outputs": [],
      "source": [
        "# model = vxm.networks.VxmDense(\n",
        "#     inshape=inshape,\n",
        "#     nb_unet_features=nb_features,\n",
        "#     bidir=args.bidir\n",
        "    \n",
        "# )\n"
      ]
    },
    {
      "cell_type": "code",
      "execution_count": null,
      "metadata": {
        "id": "dctHtNlJKhsv"
      },
      "outputs": [],
      "source": [
        "def vxm_data_generator(x_data, batch_size=32):\n",
        "    \"\"\"\n",
        "    Generator that takes in data of size [N, H, W], and yields data for\n",
        "    our custom vxm model. Note that we need to provide numpy data for each\n",
        "    input, and each output.\n",
        "\n",
        "    inputs:  moving [bs, H, W, 1], fixed image [bs, H, W, 1]\n",
        "    outputs: moved image [bs, H, W, 1], zero-gradient [bs, H, W, 2]\n",
        "    \"\"\"\n",
        "\n",
        "    # preliminary sizing\n",
        "    vol_shape = x_data.shape[1:] # extract data shape\n",
        "    ndims = len(vol_shape)\n",
        "    \n",
        "    # prepare a zero array the size of the deformation\n",
        "    # we'll explain this below\n",
        "    zero_phi = np.zeros([batch_size, *vol_shape, ndims])\n",
        "    \n",
        "    while True:\n",
        "        # prepare inputs:\n",
        "        # images need to be of the size [batch_size, H, W, 1]\n",
        "        idx1 = np.random.randint(0, x_data.shape[0], size=batch_size)\n",
        "        moving_images = x_data[idx1, ..., np.newaxis]\n",
        "        idx2 = np.random.randint(0, x_data.shape[0], size=batch_size)\n",
        "        fixed_images = x_data[idx2, ..., np.newaxis]\n",
        "        inputs = [moving_images, fixed_images]\n",
        "        \n",
        "        # prepare outputs (the 'true' moved image):\n",
        "        # of course, we don't have this, but we know we want to compare \n",
        "        # the resulting moved image with the fixed image. \n",
        "        # we also wish to penalize the deformation field. \n",
        "        outputs = [fixed_images, zero_phi]\n",
        "        \n",
        "        yield (inputs, outputs)"
      ]
    },
    {
      "cell_type": "code",
      "execution_count": null,
      "metadata": {
        "id": "ydLZtZqrgLuE"
      },
      "outputs": [],
      "source": [
        ""
      ]
    },
    {
      "cell_type": "code",
      "execution_count": null,
      "metadata": {
        "id": "9sTsiZkGgyyx"
      },
      "outputs": [],
      "source": [
        "from sklearn.metrics import roc_auc_score"
      ]
    },
    {
      "cell_type": "code",
      "execution_count": null,
      "metadata": {
        "id": "Vwt0DhmW2Ma3",
        "colab": {
          "base_uri": "https://localhost:8080/"
        },
        "outputId": "6b0c3558-838d-4721-ddf4-23b0a71db9c7"
      },
      "outputs": [
        {
          "output_type": "stream",
          "name": "stdout",
          "text": [
            "2 2 torch.Size([1, 1, 128, 32, 32])\n",
            "torch.Size([1, 1, 128, 32, 32])\n",
            "Steps=0, Val_AUC=0.8022, Best_Val_AUC=0.8022\n",
            "2 2 torch.Size([1, 1, 128, 32, 32])\n",
            "torch.Size([1, 1, 128, 32, 32])\n",
            "Steps=1, Val_AUC=0.7319, Best_Val_AUC=0.8022\n",
            "2 2 torch.Size([1, 1, 128, 32, 32])\n",
            "torch.Size([1, 1, 128, 32, 32])\n",
            "Steps=2, Val_AUC=0.7217, Best_Val_AUC=0.8022\n",
            "2 2 torch.Size([1, 1, 128, 32, 32])\n",
            "torch.Size([1, 1, 128, 32, 32])\n",
            "Steps=3, Val_AUC=0.7236, Best_Val_AUC=0.8022\n",
            "2 2 torch.Size([1, 1, 128, 32, 32])\n",
            "torch.Size([1, 1, 128, 32, 32])\n",
            "Steps=4, Val_AUC=0.7245, Best_Val_AUC=0.8022\n",
            "2 2 torch.Size([1, 1, 128, 32, 32])\n",
            "torch.Size([1, 1, 128, 32, 32])\n",
            "Steps=5, Val_AUC=0.7213, Best_Val_AUC=0.8022\n",
            "2 2 torch.Size([1, 1, 128, 32, 32])\n",
            "torch.Size([1, 1, 128, 32, 32])\n",
            "Steps=6, Val_AUC=0.7239, Best_Val_AUC=0.8022\n",
            "2 2 torch.Size([1, 1, 128, 32, 32])\n",
            "torch.Size([1, 1, 128, 32, 32])\n",
            "Steps=7, Val_AUC=0.7244, Best_Val_AUC=0.8022\n",
            "2 2 torch.Size([1, 1, 128, 32, 32])\n",
            "torch.Size([1, 1, 128, 32, 32])\n",
            "Steps=8, Val_AUC=0.7244, Best_Val_AUC=0.8022\n",
            "2 2 torch.Size([1, 1, 128, 32, 32])\n",
            "torch.Size([1, 1, 128, 32, 32])\n",
            "Steps=9, Val_AUC=0.7241, Best_Val_AUC=0.8022\n",
            "Epoch=0, Val_AUC=0.7241, Best_Val_AUC=0.8022\n",
            "2 2 torch.Size([1, 1, 128, 32, 32])\n",
            "torch.Size([1, 1, 128, 32, 32])\n",
            "Steps=0, Val_AUC=0.7251, Best_Val_AUC=0.8022\n",
            "2 2 torch.Size([1, 1, 128, 32, 32])\n",
            "torch.Size([1, 1, 128, 32, 32])\n",
            "Steps=1, Val_AUC=0.7244, Best_Val_AUC=0.8022\n",
            "2 2 torch.Size([1, 1, 128, 32, 32])\n",
            "torch.Size([1, 1, 128, 32, 32])\n",
            "Steps=2, Val_AUC=0.7244, Best_Val_AUC=0.8022\n",
            "2 2 torch.Size([1, 1, 128, 32, 32])\n",
            "torch.Size([1, 1, 128, 32, 32])\n",
            "Steps=3, Val_AUC=0.7244, Best_Val_AUC=0.8022\n",
            "2 2 torch.Size([1, 1, 128, 32, 32])\n",
            "torch.Size([1, 1, 128, 32, 32])\n",
            "Steps=4, Val_AUC=0.7319, Best_Val_AUC=0.8022\n",
            "2 2 torch.Size([1, 1, 128, 32, 32])\n",
            "torch.Size([1, 1, 128, 32, 32])\n",
            "Steps=5, Val_AUC=0.7360, Best_Val_AUC=0.8022\n",
            "2 2 torch.Size([1, 1, 128, 32, 32])\n",
            "torch.Size([1, 1, 128, 32, 32])\n",
            "Steps=6, Val_AUC=0.7311, Best_Val_AUC=0.8022\n",
            "2 2 torch.Size([1, 1, 128, 32, 32])\n",
            "torch.Size([1, 1, 128, 32, 32])\n",
            "Steps=7, Val_AUC=0.7348, Best_Val_AUC=0.8022\n",
            "2 2 torch.Size([1, 1, 128, 32, 32])\n",
            "torch.Size([1, 1, 128, 32, 32])\n",
            "Steps=8, Val_AUC=0.7321, Best_Val_AUC=0.8022\n",
            "2 2 torch.Size([1, 1, 128, 32, 32])\n",
            "torch.Size([1, 1, 128, 32, 32])\n",
            "Steps=9, Val_AUC=0.7248, Best_Val_AUC=0.8022\n",
            "Epoch=1, Val_AUC=0.7248, Best_Val_AUC=0.8022\n"
          ]
        }
      ],
      "source": [
        "# load and prepare training data\n",
        "train_files = utils.read_file_list(\"/content/drive/MyDrive/Deep Learning Project/Voxelmorph/npz.txt\")\n",
        "# assert len(train_files) > 0, 'Could not find any training data.'\n",
        "\n",
        "# no need to append an extra feature axis if data is multichannel\n",
        "add_feat_axis = not args.multichannel\n",
        "\n",
        "# if args.atlas:\n",
        "#     # scan-to-atlas generator\n",
        "#     atlas = vxm.py.utils.load_volfile(args.atlas, np_var='vol',\n",
        "#                                       add_batch_axis=True, add_feat_axis=add_feat_axis)\n",
        "#     generator = vxm.generators.scan_to_atlas(train_files, atlas,\n",
        "#                                              batch_size=args.batch_size, bidir=args.bidir,\n",
        "#                                              add_feat_axis=add_feat_axis)\n",
        "# else:\n",
        "    # scan-to-scan generator\n",
        "generator = vxm.generators.scan_to_scan(\n",
        "    train_files, batch_size=args.batch_size, bidir=args.bidir, add_feat_axis=add_feat_axis)\n",
        "\n",
        "# embed()\n",
        "# # extract shape from sampled input\n",
        "inshape = next(generator)[0][0].shape[1:-1]\n",
        "\n",
        "# prepare model folder\n",
        "# model_dir = args.model_dir\n",
        "# os.makedirs(model_dir, exist_ok=True)\n",
        "\n",
        "# # device handling\n",
        "# gpus = args.gpu.split(',')\n",
        "# nb_gpus = len(gpus)\n",
        "device = 'cuda:0'\n",
        "# os.environ['CUDA_VISIBLE_DEVICES'] = args.gpu\n",
        "# assert np.mod(args.batch_size, nb_gpus) == 0, \\\n",
        "#     'Batch size (%d) should be a multiple of the nr of gpus (%d)' % (args.batch_size, nb_devices)\n",
        "\n",
        "# # enabling cudnn determinism appears to speed up training by a lot\n",
        "# torch.backends.cudnn.deterministic = not args.cudnn_nondet\n",
        "\n",
        "# # unet architecture\n",
        "#enc_nf = args.enc if args.enc else [16, 32, 32, 32]\n",
        "# enc_nf = [16, 32, 32, 32]\n",
        "#dec_nf = args.dec if args.dec else [32, 32, 32, 32, 32, 16, 16]\n",
        "# dec_nf = [32, 32, 32, 32, 32, 16, 16]\n",
        "\n",
        "# if args.load_model:\n",
        "#     # load initial model (if specified)\n",
        "#     model = vxm.networks.VxmDense.load(args.load_model, device)\n",
        "# else:\n",
        "    # otherwise configure new model\n",
        "model = vxm.networks.VxmDense(inshape=inshape,nb_unet_features=[enc_nf, dec_nf],bidir=bidir,int_downsize=args.int_downsize)\n",
        "\n",
        "# if nb_gpus > 1:\n",
        "#     # use multiple GPUs via DataParallel\n",
        "#     model = torch.nn.DataParallel(model)\n",
        "#     model.save = model.module.save\n",
        "\n",
        "# prepare the model for training and send to device\n",
        "model.to(device)\n",
        "model.train()\n",
        "best_val_auc=0\n",
        "# set optimizer\n",
        "optimizer = torch.optim.Adam(model.parameters(), lr=args.lr)\n",
        "\n",
        "# prepare image loss\n",
        "if args.image_loss == 'ncc':\n",
        "    image_loss_func = vxm.losses.NCC().loss\n",
        "elif args.image_loss == 'mse':\n",
        "    image_loss_func = vxm.losses.MSE().loss\n",
        "else:\n",
        "    raise ValueError('Image loss should be \"mse\" or \"ncc\", but found \"%s\"' % args.image_loss)\n",
        "\n",
        "# need two image loss functions if bidirectional\n",
        "if bidir:\n",
        "    losses = [image_loss_func, image_loss_func]\n",
        "    weights = [0.5, 0.5]\n",
        "else:\n",
        "    losses = [image_loss_func]\n",
        "    weights = [1]\n",
        "\n",
        "# prepare deformation loss\n",
        "losses += [vxm.losses.Grad('l2', loss_mult=args.int_downsize).loss]\n",
        "weights += [args.weight]\n",
        "\n",
        "# training loops\n",
        "for epoch in range(2):\n",
        "\n",
        "    # save model checkpoint\n",
        "    # if epoch % 20 == 0:\n",
        "    #     model.save(os.path.join(model_dir, '%04d.pt' % epoch))\n",
        "\n",
        "    epoch_loss = []\n",
        "    epoch_total_loss = []\n",
        "    epoch_step_time = []\n",
        "\n",
        "    for step in range(10):\n",
        "\n",
        "        step_start_time = time.time()\n",
        "\n",
        "        # generate inputs (and true outputs) and convert them to tensors\n",
        "        inputs, y_true = next(generator)\n",
        "        inputs = [torch.from_numpy(d).to(device).float().permute(0, 4, 1, 2, 3) for d in inputs]\n",
        "        y_true = [torch.from_numpy(d).to(device).float().permute(0, 4, 1, 2, 3) for d in y_true]\n",
        "        print(len(inputs),len(y_true),inputs[0].shape)\n",
        "        # run inputs through the model to produce a warped image and flow field\n",
        "        # y_pred = []\n",
        "        # for input in inputs:\n",
        "\n",
        "        #     y_pred_case = model(input)\n",
        "        #     y_pred.append(y_pred_case)\n",
        "        print(y_true[0].shape)\n",
        "        y_pred = model(*inputs)\n",
        "        y_true_0 = y_true[0].detach().cpu().numpy().squeeze()\n",
        "        #y_true_1 = y_true[1].detach().cpu().numpy().squeeze()\n",
        "        y_pred_0 = y_pred[0].detach().cpu().numpy().squeeze()\n",
        "        y_true_0 = y_true_0.ravel()\n",
        "        y_pred_0 = y_pred_0.ravel()\n",
        "        # print(y_true_0.shape)\n",
        "        # print(y_pred_0.shape)\n",
        "        # y_true_mean = np.mean(y_true_0)\n",
        "        # y_pred_mean = np.mean(y_pred_0)\n",
        "        for idx in range(len(y_true_0)):\n",
        "            if(y_true_0[idx]!=0):\n",
        "                y_true_0[idx]=1\n",
        "            # else:\n",
        "            #     y_true_0[idx]=0\n",
        "            if(y_pred_0[idx]!=0):\n",
        "                y_pred_0[idx]=1\n",
        "            # else:\n",
        "            #     y_pred_0[idx]=0\n",
        "       \n",
        "        val_auc_mean = roc_auc_score(y_true_0, y_pred_0) \n",
        "        if(val_auc_mean>best_val_auc):\n",
        "            best_val_auc=val_auc_mean\n",
        "            torch.save(model.state_dict(), '/content/drive/MyDrive/Deep Learning Project/Voxelmorph/ce_pretrained_model.pth')\n",
        "        #print(val_auc_mean)\n",
        "\n",
        "        # calculate total loss\n",
        "        loss = 0\n",
        "        loss_list = []\n",
        "        for n, loss_function in enumerate(losses):\n",
        "            curr_loss = loss_function(y_true[n], y_pred[n]) * weights[n]\n",
        "            loss_list.append(curr_loss.item())\n",
        "            loss += curr_loss\n",
        "\n",
        "        epoch_loss.append(loss_list)\n",
        "        epoch_total_loss.append(loss.item())\n",
        "\n",
        "        # backpropagate and optimize\n",
        "        optimizer.zero_grad()\n",
        "        loss.backward()\n",
        "        optimizer.step()\n",
        "\n",
        "        # get compute time\n",
        "        epoch_step_time.append(time.time() - step_start_time)\n",
        "        print ('Steps=%s, Val_AUC=%.4f, Best_Val_AUC=%.4f'%(step, val_auc_mean, best_val_auc ))\n",
        "\n",
        "    # print epoch info\n",
        "    epoch_info = 'Epoch %d/%d' % (epoch + 1, args.epochs)\n",
        "    time_info = '%.4f sec/step' % np.mean(epoch_step_time)\n",
        "    losses_info = ', '.join(['%.4e' % f for f in np.mean(epoch_loss, axis=0)])\n",
        "    loss_info = 'loss: %.4e  (%s)' % (np.mean(epoch_total_loss), losses_info)\n",
        "    #print(' - '.join((epoch_info, time_info, loss_info)), flush=True)\n",
        "    print ('Epoch=%s, Val_AUC=%.4f, Best_Val_AUC=%.4f'%(epoch, val_auc_mean, best_val_auc ))\n",
        "\n"
      ]
    },
    {
      "cell_type": "code",
      "source": [
        "import torch, gc\n",
        "gc.collect()\n",
        "torch.cuda.empty_cache()"
      ],
      "metadata": {
        "id": "V6HVz_YcktM_"
      },
      "execution_count": null,
      "outputs": []
    },
    {
      "cell_type": "code",
      "source": [
        "#model = vxm.networks.VxmDense(inshape=inshape,nb_unet_features=[enc_nf, dec_nf],bidir=bidir,int_downsize=args.int_downsize)"
      ],
      "metadata": {
        "id": "e0pIu4mNtIg8"
      },
      "execution_count": null,
      "outputs": []
    },
    {
      "cell_type": "code",
      "source": [
        "# # load pretrained model\n",
        "# if True:\n",
        "#   PATH = '/content/drive/MyDrive/Deep Learning Project/Voxelmorph/ce_pretrained_model.pth' \n",
        "#   state_dict = torch.load(PATH)\n",
        "#   state_dict.pop('classifier.weight', None)\n",
        "#   state_dict.pop('classifier.bias', None) \n",
        "#   model.load_state_dict(state_dict, strict=False)"
      ],
      "metadata": {
        "id": "C3fpngPipXha"
      },
      "execution_count": null,
      "outputs": []
    },
    {
      "cell_type": "code",
      "execution_count": null,
      "metadata": {
        "colab": {
          "base_uri": "https://localhost:8080/"
        },
        "id": "_wZ8ARSYwwT5",
        "outputId": "92c6d9f4-1184-4a1e-b05c-4104925ef2ae"
      },
      "outputs": [
        {
          "output_type": "stream",
          "name": "stdout",
          "text": [
            "Requirement already satisfied: libauc in /usr/local/lib/python3.7/dist-packages (1.1.8)\n",
            "Requirement already satisfied: scikit-image in /usr/local/lib/python3.7/dist-packages (from libauc) (0.18.3)\n",
            "Requirement already satisfied: Pillow in /usr/local/lib/python3.7/dist-packages (from libauc) (7.1.2)\n",
            "Requirement already satisfied: torch>=1.2 in /usr/local/lib/python3.7/dist-packages (from libauc) (1.11.0+cu113)\n",
            "Requirement already satisfied: numpy in /usr/local/lib/python3.7/dist-packages (from libauc) (1.21.6)\n",
            "Requirement already satisfied: scikit-learn in /usr/local/lib/python3.7/dist-packages (from libauc) (1.0.2)\n",
            "Requirement already satisfied: pandas in /usr/local/lib/python3.7/dist-packages (from libauc) (1.3.5)\n",
            "Requirement already satisfied: tensorflow>=2.0.0 in /usr/local/lib/python3.7/dist-packages (from libauc) (2.8.0)\n",
            "Requirement already satisfied: opencv-python in /usr/local/lib/python3.7/dist-packages (from libauc) (4.1.2.30)\n",
            "Requirement already satisfied: gast>=0.2.1 in /usr/local/lib/python3.7/dist-packages (from tensorflow>=2.0.0->libauc) (0.5.3)\n",
            "Requirement already satisfied: termcolor>=1.1.0 in /usr/local/lib/python3.7/dist-packages (from tensorflow>=2.0.0->libauc) (1.1.0)\n",
            "Requirement already satisfied: google-pasta>=0.1.1 in /usr/local/lib/python3.7/dist-packages (from tensorflow>=2.0.0->libauc) (0.2.0)\n",
            "Requirement already satisfied: opt-einsum>=2.3.2 in /usr/local/lib/python3.7/dist-packages (from tensorflow>=2.0.0->libauc) (3.3.0)\n",
            "Requirement already satisfied: typing-extensions>=3.6.6 in /usr/local/lib/python3.7/dist-packages (from tensorflow>=2.0.0->libauc) (4.2.0)\n",
            "Requirement already satisfied: wrapt>=1.11.0 in /usr/local/lib/python3.7/dist-packages (from tensorflow>=2.0.0->libauc) (1.14.0)\n",
            "Requirement already satisfied: tensorboard<2.9,>=2.8 in /usr/local/lib/python3.7/dist-packages (from tensorflow>=2.0.0->libauc) (2.8.0)\n",
            "Requirement already satisfied: libclang>=9.0.1 in /usr/local/lib/python3.7/dist-packages (from tensorflow>=2.0.0->libauc) (14.0.1)\n",
            "Requirement already satisfied: tf-estimator-nightly==2.8.0.dev2021122109 in /usr/local/lib/python3.7/dist-packages (from tensorflow>=2.0.0->libauc) (2.8.0.dev2021122109)\n",
            "Requirement already satisfied: flatbuffers>=1.12 in /usr/local/lib/python3.7/dist-packages (from tensorflow>=2.0.0->libauc) (2.0)\n",
            "Requirement already satisfied: tensorflow-io-gcs-filesystem>=0.23.1 in /usr/local/lib/python3.7/dist-packages (from tensorflow>=2.0.0->libauc) (0.25.0)\n",
            "Requirement already satisfied: absl-py>=0.4.0 in /usr/local/lib/python3.7/dist-packages (from tensorflow>=2.0.0->libauc) (1.0.0)\n",
            "Requirement already satisfied: keras-preprocessing>=1.1.1 in /usr/local/lib/python3.7/dist-packages (from tensorflow>=2.0.0->libauc) (1.1.2)\n",
            "Requirement already satisfied: astunparse>=1.6.0 in /usr/local/lib/python3.7/dist-packages (from tensorflow>=2.0.0->libauc) (1.6.3)\n",
            "Requirement already satisfied: keras<2.9,>=2.8.0rc0 in /usr/local/lib/python3.7/dist-packages (from tensorflow>=2.0.0->libauc) (2.8.0)\n",
            "Requirement already satisfied: grpcio<2.0,>=1.24.3 in /usr/local/lib/python3.7/dist-packages (from tensorflow>=2.0.0->libauc) (1.44.0)\n",
            "Requirement already satisfied: h5py>=2.9.0 in /usr/local/lib/python3.7/dist-packages (from tensorflow>=2.0.0->libauc) (3.1.0)\n",
            "Requirement already satisfied: protobuf>=3.9.2 in /usr/local/lib/python3.7/dist-packages (from tensorflow>=2.0.0->libauc) (3.17.3)\n",
            "Requirement already satisfied: six>=1.12.0 in /usr/local/lib/python3.7/dist-packages (from tensorflow>=2.0.0->libauc) (1.15.0)\n",
            "Requirement already satisfied: setuptools in /usr/local/lib/python3.7/dist-packages (from tensorflow>=2.0.0->libauc) (57.4.0)\n",
            "Requirement already satisfied: wheel<1.0,>=0.23.0 in /usr/local/lib/python3.7/dist-packages (from astunparse>=1.6.0->tensorflow>=2.0.0->libauc) (0.37.1)\n",
            "Requirement already satisfied: cached-property in /usr/local/lib/python3.7/dist-packages (from h5py>=2.9.0->tensorflow>=2.0.0->libauc) (1.5.2)\n",
            "Requirement already satisfied: google-auth-oauthlib<0.5,>=0.4.1 in /usr/local/lib/python3.7/dist-packages (from tensorboard<2.9,>=2.8->tensorflow>=2.0.0->libauc) (0.4.6)\n",
            "Requirement already satisfied: tensorboard-plugin-wit>=1.6.0 in /usr/local/lib/python3.7/dist-packages (from tensorboard<2.9,>=2.8->tensorflow>=2.0.0->libauc) (1.8.1)\n",
            "Requirement already satisfied: google-auth<3,>=1.6.3 in /usr/local/lib/python3.7/dist-packages (from tensorboard<2.9,>=2.8->tensorflow>=2.0.0->libauc) (1.35.0)\n",
            "Requirement already satisfied: werkzeug>=0.11.15 in /usr/local/lib/python3.7/dist-packages (from tensorboard<2.9,>=2.8->tensorflow>=2.0.0->libauc) (1.0.1)\n",
            "Requirement already satisfied: requests<3,>=2.21.0 in /usr/local/lib/python3.7/dist-packages (from tensorboard<2.9,>=2.8->tensorflow>=2.0.0->libauc) (2.23.0)\n",
            "Requirement already satisfied: markdown>=2.6.8 in /usr/local/lib/python3.7/dist-packages (from tensorboard<2.9,>=2.8->tensorflow>=2.0.0->libauc) (3.3.6)\n",
            "Requirement already satisfied: tensorboard-data-server<0.7.0,>=0.6.0 in /usr/local/lib/python3.7/dist-packages (from tensorboard<2.9,>=2.8->tensorflow>=2.0.0->libauc) (0.6.1)\n",
            "Requirement already satisfied: rsa<5,>=3.1.4 in /usr/local/lib/python3.7/dist-packages (from google-auth<3,>=1.6.3->tensorboard<2.9,>=2.8->tensorflow>=2.0.0->libauc) (4.8)\n",
            "Requirement already satisfied: cachetools<5.0,>=2.0.0 in /usr/local/lib/python3.7/dist-packages (from google-auth<3,>=1.6.3->tensorboard<2.9,>=2.8->tensorflow>=2.0.0->libauc) (4.2.4)\n",
            "Requirement already satisfied: pyasn1-modules>=0.2.1 in /usr/local/lib/python3.7/dist-packages (from google-auth<3,>=1.6.3->tensorboard<2.9,>=2.8->tensorflow>=2.0.0->libauc) (0.2.8)\n",
            "Requirement already satisfied: requests-oauthlib>=0.7.0 in /usr/local/lib/python3.7/dist-packages (from google-auth-oauthlib<0.5,>=0.4.1->tensorboard<2.9,>=2.8->tensorflow>=2.0.0->libauc) (1.3.1)\n",
            "Requirement already satisfied: importlib-metadata>=4.4 in /usr/local/lib/python3.7/dist-packages (from markdown>=2.6.8->tensorboard<2.9,>=2.8->tensorflow>=2.0.0->libauc) (4.11.3)\n",
            "Requirement already satisfied: zipp>=0.5 in /usr/local/lib/python3.7/dist-packages (from importlib-metadata>=4.4->markdown>=2.6.8->tensorboard<2.9,>=2.8->tensorflow>=2.0.0->libauc) (3.8.0)\n",
            "Requirement already satisfied: pyasn1<0.5.0,>=0.4.6 in /usr/local/lib/python3.7/dist-packages (from pyasn1-modules>=0.2.1->google-auth<3,>=1.6.3->tensorboard<2.9,>=2.8->tensorflow>=2.0.0->libauc) (0.4.8)\n",
            "Requirement already satisfied: idna<3,>=2.5 in /usr/local/lib/python3.7/dist-packages (from requests<3,>=2.21.0->tensorboard<2.9,>=2.8->tensorflow>=2.0.0->libauc) (2.10)\n",
            "Requirement already satisfied: chardet<4,>=3.0.2 in /usr/local/lib/python3.7/dist-packages (from requests<3,>=2.21.0->tensorboard<2.9,>=2.8->tensorflow>=2.0.0->libauc) (3.0.4)\n",
            "Requirement already satisfied: certifi>=2017.4.17 in /usr/local/lib/python3.7/dist-packages (from requests<3,>=2.21.0->tensorboard<2.9,>=2.8->tensorflow>=2.0.0->libauc) (2021.10.8)\n",
            "Requirement already satisfied: urllib3!=1.25.0,!=1.25.1,<1.26,>=1.21.1 in /usr/local/lib/python3.7/dist-packages (from requests<3,>=2.21.0->tensorboard<2.9,>=2.8->tensorflow>=2.0.0->libauc) (1.24.3)\n",
            "Requirement already satisfied: oauthlib>=3.0.0 in /usr/local/lib/python3.7/dist-packages (from requests-oauthlib>=0.7.0->google-auth-oauthlib<0.5,>=0.4.1->tensorboard<2.9,>=2.8->tensorflow>=2.0.0->libauc) (3.2.0)\n",
            "Requirement already satisfied: pytz>=2017.3 in /usr/local/lib/python3.7/dist-packages (from pandas->libauc) (2022.1)\n",
            "Requirement already satisfied: python-dateutil>=2.7.3 in /usr/local/lib/python3.7/dist-packages (from pandas->libauc) (2.8.2)\n",
            "Requirement already satisfied: matplotlib!=3.0.0,>=2.0.0 in /usr/local/lib/python3.7/dist-packages (from scikit-image->libauc) (3.2.2)\n",
            "Requirement already satisfied: scipy>=1.0.1 in /usr/local/lib/python3.7/dist-packages (from scikit-image->libauc) (1.4.1)\n",
            "Requirement already satisfied: imageio>=2.3.0 in /usr/local/lib/python3.7/dist-packages (from scikit-image->libauc) (2.4.1)\n",
            "Requirement already satisfied: tifffile>=2019.7.26 in /usr/local/lib/python3.7/dist-packages (from scikit-image->libauc) (2021.11.2)\n",
            "Requirement already satisfied: networkx>=2.0 in /usr/local/lib/python3.7/dist-packages (from scikit-image->libauc) (2.6.3)\n",
            "Requirement already satisfied: PyWavelets>=1.1.1 in /usr/local/lib/python3.7/dist-packages (from scikit-image->libauc) (1.3.0)\n",
            "Requirement already satisfied: cycler>=0.10 in /usr/local/lib/python3.7/dist-packages (from matplotlib!=3.0.0,>=2.0.0->scikit-image->libauc) (0.11.0)\n",
            "Requirement already satisfied: kiwisolver>=1.0.1 in /usr/local/lib/python3.7/dist-packages (from matplotlib!=3.0.0,>=2.0.0->scikit-image->libauc) (1.4.2)\n",
            "Requirement already satisfied: pyparsing!=2.0.4,!=2.1.2,!=2.1.6,>=2.0.1 in /usr/local/lib/python3.7/dist-packages (from matplotlib!=3.0.0,>=2.0.0->scikit-image->libauc) (3.0.8)\n",
            "Requirement already satisfied: threadpoolctl>=2.0.0 in /usr/local/lib/python3.7/dist-packages (from scikit-learn->libauc) (3.1.0)\n",
            "Requirement already satisfied: joblib>=0.11 in /usr/local/lib/python3.7/dist-packages (from scikit-learn->libauc) (1.1.0)\n"
          ]
        }
      ],
      "source": [
        "!pip install libauc"
      ]
    },
    {
      "cell_type": "code",
      "execution_count": null,
      "metadata": {
        "id": "t90EE6mdwwT5"
      },
      "outputs": [],
      "source": [
        "from libauc.losses import AUCMLoss, CrossEntropyLoss\n",
        "from libauc.optimizers import PESG, Adam"
      ]
    },
    {
      "cell_type": "code",
      "execution_count": null,
      "metadata": {
        "id": "FzVi1HiiwwT5"
      },
      "outputs": [],
      "source": [
        ""
      ]
    },
    {
      "cell_type": "code",
      "execution_count": null,
      "metadata": {
        "id": "lE8Syj6twwT5"
      },
      "outputs": [],
      "source": [
        "Loss = AUCMLoss(imratio=0.01)\n",
        "optimizer = PESG(model, \n",
        "                 a=Loss.a, \n",
        "                 b=Loss.b, \n",
        "                 alpha=Loss.alpha,\n",
        "                 imratio = 0.01, \n",
        "                 lr=args.lr,\n",
        "                 weight_decay=args.weight)\n"
      ]
    },
    {
      "cell_type": "code",
      "execution_count": null,
      "metadata": {
        "colab": {
          "base_uri": "https://localhost:8080/",
          "height": 415
        },
        "id": "7f0jQL-hwwT5",
        "outputId": "504397f6-acdb-4f61-caa8-12ef0a2e4b5b"
      },
      "outputs": [
        {
          "output_type": "stream",
          "name": "stdout",
          "text": [
            "2 2 torch.Size([1, 1, 128, 32, 32])\n",
            "torch.Size([1, 1, 128, 32, 32])\n"
          ]
        },
        {
          "output_type": "error",
          "ename": "ValueError",
          "evalue": "ignored",
          "traceback": [
            "\u001b[0;31m---------------------------------------------------------------------------\u001b[0m",
            "\u001b[0;31mValueError\u001b[0m                                Traceback (most recent call last)",
            "\u001b[0;32m<ipython-input-42-b389de7db5fc>\u001b[0m in \u001b[0;36m<module>\u001b[0;34m()\u001b[0m\n\u001b[1;32m    107\u001b[0m             \u001b[0;31m# #     y_pred_0[idx]=0\u001b[0m\u001b[0;34m\u001b[0m\u001b[0;34m\u001b[0m\u001b[0;34m\u001b[0m\u001b[0m\n\u001b[1;32m    108\u001b[0m         \u001b[0mtruth\u001b[0m \u001b[0;34m=\u001b[0m \u001b[0mnp\u001b[0m\u001b[0;34m.\u001b[0m\u001b[0mones\u001b[0m\u001b[0;34m(\u001b[0m\u001b[0my_pred_0\u001b[0m\u001b[0;34m.\u001b[0m\u001b[0mshape\u001b[0m\u001b[0;34m)\u001b[0m\u001b[0;34m\u001b[0m\u001b[0;34m\u001b[0m\u001b[0m\n\u001b[0;32m--> 109\u001b[0;31m         \u001b[0mval_auc_mean\u001b[0m \u001b[0;34m=\u001b[0m \u001b[0mroc_auc_score\u001b[0m\u001b[0;34m(\u001b[0m\u001b[0my_true_0\u001b[0m\u001b[0;34m,\u001b[0m \u001b[0mpredictions\u001b[0m\u001b[0;34m)\u001b[0m\u001b[0;34m\u001b[0m\u001b[0;34m\u001b[0m\u001b[0m\n\u001b[0m\u001b[1;32m    110\u001b[0m         \u001b[0;32mif\u001b[0m\u001b[0;34m(\u001b[0m\u001b[0mval_auc_mean\u001b[0m\u001b[0;34m>\u001b[0m\u001b[0mbest_val_auc\u001b[0m\u001b[0;34m)\u001b[0m\u001b[0;34m:\u001b[0m\u001b[0;34m\u001b[0m\u001b[0;34m\u001b[0m\u001b[0m\n\u001b[1;32m    111\u001b[0m             \u001b[0mbest_val_auc\u001b[0m\u001b[0;34m=\u001b[0m\u001b[0mval_auc_mean\u001b[0m\u001b[0;34m\u001b[0m\u001b[0;34m\u001b[0m\u001b[0m\n",
            "\u001b[0;32m/usr/local/lib/python3.7/dist-packages/sklearn/metrics/_ranking.py\u001b[0m in \u001b[0;36mroc_auc_score\u001b[0;34m(y_true, y_score, average, sample_weight, max_fpr, multi_class, labels)\u001b[0m\n\u001b[1;32m    578\u001b[0m             \u001b[0my_score\u001b[0m\u001b[0;34m,\u001b[0m\u001b[0;34m\u001b[0m\u001b[0;34m\u001b[0m\u001b[0m\n\u001b[1;32m    579\u001b[0m             \u001b[0maverage\u001b[0m\u001b[0;34m,\u001b[0m\u001b[0;34m\u001b[0m\u001b[0;34m\u001b[0m\u001b[0m\n\u001b[0;32m--> 580\u001b[0;31m             \u001b[0msample_weight\u001b[0m\u001b[0;34m=\u001b[0m\u001b[0msample_weight\u001b[0m\u001b[0;34m,\u001b[0m\u001b[0;34m\u001b[0m\u001b[0;34m\u001b[0m\u001b[0m\n\u001b[0m\u001b[1;32m    581\u001b[0m         )\n\u001b[1;32m    582\u001b[0m \u001b[0;34m\u001b[0m\u001b[0m\n",
            "\u001b[0;32m/usr/local/lib/python3.7/dist-packages/sklearn/metrics/_base.py\u001b[0m in \u001b[0;36m_average_binary_score\u001b[0;34m(binary_metric, y_true, y_score, average, sample_weight)\u001b[0m\n\u001b[1;32m     70\u001b[0m     \u001b[0my_type\u001b[0m \u001b[0;34m=\u001b[0m \u001b[0mtype_of_target\u001b[0m\u001b[0;34m(\u001b[0m\u001b[0my_true\u001b[0m\u001b[0;34m)\u001b[0m\u001b[0;34m\u001b[0m\u001b[0;34m\u001b[0m\u001b[0m\n\u001b[1;32m     71\u001b[0m     \u001b[0;32mif\u001b[0m \u001b[0my_type\u001b[0m \u001b[0;32mnot\u001b[0m \u001b[0;32min\u001b[0m \u001b[0;34m(\u001b[0m\u001b[0;34m\"binary\"\u001b[0m\u001b[0;34m,\u001b[0m \u001b[0;34m\"multilabel-indicator\"\u001b[0m\u001b[0;34m)\u001b[0m\u001b[0;34m:\u001b[0m\u001b[0;34m\u001b[0m\u001b[0;34m\u001b[0m\u001b[0m\n\u001b[0;32m---> 72\u001b[0;31m         \u001b[0;32mraise\u001b[0m \u001b[0mValueError\u001b[0m\u001b[0;34m(\u001b[0m\u001b[0;34m\"{0} format is not supported\"\u001b[0m\u001b[0;34m.\u001b[0m\u001b[0mformat\u001b[0m\u001b[0;34m(\u001b[0m\u001b[0my_type\u001b[0m\u001b[0;34m)\u001b[0m\u001b[0;34m)\u001b[0m\u001b[0;34m\u001b[0m\u001b[0;34m\u001b[0m\u001b[0m\n\u001b[0m\u001b[1;32m     73\u001b[0m \u001b[0;34m\u001b[0m\u001b[0m\n\u001b[1;32m     74\u001b[0m     \u001b[0;32mif\u001b[0m \u001b[0my_type\u001b[0m \u001b[0;34m==\u001b[0m \u001b[0;34m\"binary\"\u001b[0m\u001b[0;34m:\u001b[0m\u001b[0;34m\u001b[0m\u001b[0;34m\u001b[0m\u001b[0m\n",
            "\u001b[0;31mValueError\u001b[0m: continuous format is not supported"
          ]
        }
      ],
      "source": [
        "#from itertools import Predicate\n",
        "# load and prepare training data\n",
        "train_files = utils.read_file_list(\"/content/drive/MyDrive/Deep Learning Project/Voxelmorph/npz.txt\")\n",
        "# assert len(train_files) > 0, 'Could not find any training data.'\n",
        "\n",
        "# no need to append an extra feature axis if data is multichannel\n",
        "add_feat_axis = not args.multichannel\n",
        "\n",
        "\n",
        "generator = vxm.generators.scan_to_scan(\n",
        "    train_files, batch_size=args.batch_size, bidir=args.bidir, add_feat_axis=add_feat_axis)\n",
        "\n",
        "# embed()\n",
        "# # extract shape from sampled input\n",
        "inshape = next(generator)[0][0].shape[1:-1]\n",
        "\n",
        "\n",
        "device = 'cuda:0'\n",
        "\n",
        "model = vxm.networks.VxmDense(inshape=inshape,nb_unet_features=[enc_nf, dec_nf],bidir=bidir,int_downsize=args.int_downsize)\n",
        "\n",
        "\n",
        "model.to(device)\n",
        "model.train()\n",
        "best_val_auc=0\n",
        "# set optimizer\n",
        "optimizer = optimizer\n",
        "image_loss_func = Loss\n",
        "\n",
        "# prepare image loss\n",
        "# if args.image_loss == 'ncc':\n",
        "#     image_loss_func = vxm.losses.NCC().loss\n",
        "# elif args.image_loss == 'mse':\n",
        "#     image_loss_func = vxm.losses.MSE().loss\n",
        "# else:\n",
        "#     raise ValueError('Image loss should be \"mse\" or \"ncc\", but found \"%s\"' % args.image_loss)\n",
        "\n",
        "# need two image loss functions if bidirectional\n",
        "if bidir:\n",
        "    losses = [image_loss_func, image_loss_func]\n",
        "    weights = [0.5, 0.5]\n",
        "else:\n",
        "    losses = [image_loss_func]\n",
        "    weights = [1]\n",
        "auc_threshold = 0.2\n",
        "\n",
        "# prepare deformation loss\n",
        "# losses += [vxm.losses.Grad('l2', loss_mult=args.int_downsize).loss]\n",
        "# weights += [args.weight]\n",
        "\n",
        "# training loops\n",
        "for epoch in range(5):\n",
        "\n",
        "    # save model checkpoint\n",
        "    # if epoch % 20 == 0:\n",
        "    #     model.save(os.path.join(model_dir, '%04d.pt' % epoch))\n",
        "    if epoch > 0:\n",
        "      optimizer.update_regularizer(decay_factor=10)\n",
        "    epoch_loss = []\n",
        "    epoch_total_loss = []\n",
        "    epoch_step_time = []\n",
        "\n",
        "    for step in range(10):\n",
        "\n",
        "        step_start_time = time.time()\n",
        "\n",
        "        # generate inputs (and true outputs) and convert them to tensors\n",
        "        inputs, y_true = next(generator)\n",
        "        inputs = [torch.from_numpy(d).to(device).float().permute(0, 4, 1, 2, 3) for d in inputs]\n",
        "        y_true = [torch.from_numpy(d).to(device).float().permute(0, 4, 1, 2, 3) for d in y_true]\n",
        "        print(len(inputs),len(y_true),inputs[0].shape)\n",
        "        # run inputs through the model to produce a warped image and flow field\n",
        "        # y_pred = []\n",
        "        # for input in inputs:\n",
        "\n",
        "        #     y_pred_case = model(input)\n",
        "        #     y_pred.append(y_pred_case)\n",
        "        print(y_true[0].shape)\n",
        "        y_pred = model(*inputs)\n",
        "        y_true_0 = y_true[0].detach().cpu().numpy().squeeze()\n",
        "        #y_true_1 = y_true[1].detach().cpu().numpy().squeeze()\n",
        "        y_pred_0 = y_pred[0].detach().cpu().numpy().squeeze()\n",
        "        y_true_0 = y_true_0.ravel()\n",
        "        y_pred_0 = y_pred_0.ravel()\n",
        "        # print(y_true_0.shape)\n",
        "        # print(y_pred_0.shape)\n",
        "        # y_true_median = np.median(y_true_0)\n",
        "        # y_pred_median = np.median(y_pred_0)\n",
        "        # for idx in range(len(y_true_0)):\n",
        "        #     if(y_true_0[idx]!=0):\n",
        "        #         y_true_0[idx]=1\n",
        "        #     # else:\n",
        "        #     #     y_true_0[idx]=0\n",
        "        #     if(y_pred_0[idx]!=0):\n",
        "        #         y_pred_0[idx]=1\n",
        "        #auc_threshold = np.mean(np.abs(y_true_0-y_pred_0))\n",
        "        predictions = np.zeros(y_pred_0.shape)\n",
        "        for idx in range(len(y_true_0)):\n",
        "            if(np.abs(y_true_0[idx]-y_pred_0[idx])<auc_threshold):\n",
        "                predictions[idx] = 1.0\n",
        "                 #y_true_0[idx]=1\n",
        "            # # else:\n",
        "            # #     y_true_0[idx]=0\n",
        "            # if(y_pred_0[idx]!=0):\n",
        "            #     y_pred_0[idx]=1\n",
        "            # # else:\n",
        "            # #     y_pred_0[idx]=0\n",
        "        truth = np.ones(y_pred_0.shape)\n",
        "        val_auc_mean = roc_auc_score(y_true_0, predictions) \n",
        "        if(val_auc_mean>best_val_auc):\n",
        "            best_val_auc=val_auc_mean\n",
        "        #print(val_auc_mean)\n",
        "\n",
        "        # calculate total loss\n",
        "        loss = 0\n",
        "        loss_list = []\n",
        "        for n, loss_function in enumerate(losses):\n",
        "          #loss_function = image_loss_func\n",
        "          curr_loss = loss_function(y_true[n], y_pred[n]) * weights[n]\n",
        "          loss_list.append(curr_loss.item())\n",
        "          loss += curr_loss\n",
        "\n",
        "        epoch_loss.append(loss_list)\n",
        "        epoch_total_loss.append(loss.item())\n",
        "\n",
        "        # backpropagate and optimize\n",
        "        optimizer.zero_grad()\n",
        "        loss.backward()\n",
        "        optimizer.step()\n",
        "\n",
        "        # get compute time\n",
        "        epoch_step_time.append(time.time() - step_start_time)\n",
        "        #print(\"step:{}\".format(step))\n",
        "        print ('Step=%s, Val_AUC=%.4f, Best_Val_AUC=%.4f'%(step, val_auc_mean, best_val_auc ))\n",
        "        torch.cuda.empty_cache()\n",
        "\n",
        "    # print epoch info\n",
        "    epoch_info = 'Epoch %d/%d' % (epoch + 1, args.epochs)\n",
        "    time_info = '%.4f sec/step' % np.mean(epoch_step_time)\n",
        "    losses_info = ', '.join(['%.4e' % f for f in np.mean(epoch_loss, axis=0)])\n",
        "    loss_info = 'loss: %.4e  (%s)' % (np.mean(epoch_total_loss), losses_info)\n",
        "    #print(' - '.join((epoch_info, time_info, loss_info)), flush=True)\n",
        "    print ('Epoch=%s, Val_AUC=%.4f, Best_Val_AUC=%.4f'%(epoch, val_auc_mean, best_val_auc ))\n",
        "    #gc.collect()\n",
        "    torch.cuda.empty_cache()\n",
        "\n"
      ]
    },
    {
      "cell_type": "code",
      "execution_count": null,
      "metadata": {
        "id": "GBwkGfEqwwT6"
      },
      "outputs": [],
      "source": [
        "pred = np.zeros(y_pred_0.shape)"
      ]
    },
    {
      "cell_type": "code",
      "execution_count": null,
      "metadata": {
        "id": "v2_wu_GZwwT6",
        "outputId": "7519a98c-05f5-4bf7-9800-38361c86fb20"
      },
      "outputs": [
        {
          "name": "stdout",
          "output_type": "stream",
          "text": [
            "2\n",
            "torch.Size([1, 1, 160, 192, 224])\n",
            "2\n",
            "torch.Size([1, 1, 160, 192, 224])\n"
          ]
        }
      ],
      "source": [
        "print(len(y_true))\n",
        "print(y_true[0].shape)\n",
        "print(len(y_pred))\n",
        "print(y_pred[0].shape)"
      ]
    },
    {
      "cell_type": "code",
      "execution_count": null,
      "metadata": {
        "id": "enHmw4SkwwT6",
        "outputId": "7af62828-991f-4ad4-9415-5d008039626c"
      },
      "outputs": [
        {
          "name": "stdout",
          "output_type": "stream",
          "text": [
            "(160, 192, 224) (3, 160, 192, 224) (160, 192, 224) (3, 160, 192, 224)\n"
          ]
        }
      ],
      "source": [
        "y_true_0 = y_true[0].detach().cpu().numpy().squeeze()\n",
        "y_true_1 = y_true[1].detach().cpu().numpy().squeeze()\n",
        "y_pred_0 = y_pred[0].detach().cpu().numpy().squeeze()\n",
        "y_pred_1 = y_pred[1].detach().cpu().numpy().squeeze()\n",
        "print(y_true_0.shape, y_true_1.shape, y_pred_0.shape, y_pred_1.shape)"
      ]
    },
    {
      "cell_type": "code",
      "execution_count": null,
      "metadata": {
        "id": "jU2WBrMhwwT6",
        "outputId": "0e1a3d75-c79a-4f28-999f-48671bb3e4c5"
      },
      "outputs": [
        {
          "name": "stdout",
          "output_type": "stream",
          "text": [
            "(6881280,)\n",
            "(6881280,)\n"
          ]
        }
      ],
      "source": [
        "y_true_0 = y_true_0.ravel()\n",
        "y_pred_0 = y_pred_0.ravel()\n",
        "print(y_true_0.shape)\n",
        "print(y_pred_0.shape)\n",
        "for idx in range(len(y_true_0)):\n",
        "    if(y_true_0[idx]!=0):\n",
        "        y_true_0[idx]=1\n",
        "    if(y_pred_0[idx]!=0):\n",
        "        y_pred_0[idx]=1\n",
        "    "
      ]
    },
    {
      "cell_type": "code",
      "execution_count": null,
      "metadata": {
        "id": "-4sdPZTywwT6",
        "outputId": "ee9588a6-8121-4067-bed4-b0cd7d10db8f"
      },
      "outputs": [
        {
          "name": "stdout",
          "output_type": "stream",
          "text": [
            "1.0\n",
            "1.0\n",
            "1.0\n",
            "1.0\n",
            "1.0\n",
            "1.0\n",
            "1.0\n",
            "1.0\n",
            "1.0\n",
            "1.0\n",
            "1.0\n",
            "1.0\n",
            "1.0\n",
            "1.0\n",
            "1.0\n",
            "1.0\n",
            "1.0\n",
            "1.0\n",
            "1.0\n",
            "1.0\n"
          ]
        }
      ],
      "source": [
        "# print(y_true_0[134,:,:])\n",
        "# print(f\"Number of Non-Zeroes in Array --> {np.count_nonzero(y_true_0)}\")\n",
        "c=0\n",
        "for value in np.nditer(y_true_0):\n",
        "  if(value!=0):\n",
        "    print(value)\n",
        "    c+=1\n",
        "  if(c==10):\n",
        "      break\n",
        "c=0\n",
        "for value in np.nditer(y_pred_0):\n",
        "  if(value!=0):\n",
        "    print(value)\n",
        "    c+=1\n",
        "  if(c==10):\n",
        "      break\n",
        "\n",
        "# for value in y_true_0:\n",
        "#     for value_1 in value:\n",
        "#         for value_2 in value_1:\n",
        "#             if(value_2!=0):\n",
        "#                 print(value_2)\n",
        "#                 c+=1\n",
        "#             if(c==100):\n",
        "#                 break"
      ]
    },
    {
      "cell_type": "code",
      "execution_count": null,
      "metadata": {
        "id": "fsaLSSLuwwT7",
        "outputId": "280d4f8c-1658-4f3a-e965-6df6fab27765"
      },
      "outputs": [
        {
          "name": "stdout",
          "output_type": "stream",
          "text": [
            "(43008,)\n",
            "160\n",
            "(43008,)\n",
            "160\n"
          ]
        }
      ],
      "source": [
        "# y_true_roc=[]\n",
        "# for img in y_true_0:\n",
        "#     y_true_roc.append(img.flatten())\n",
        "# print(img.flatten().shape)\n",
        "# print(len(y_true_roc))\n",
        "# y_pred_roc=[]\n",
        "# for img in y_pred_0:\n",
        "#     y_pred_roc.append(img.flatten())\n",
        "# print(img.flatten().shape)\n",
        "# print(len(y_pred_roc))\n",
        "\n"
      ]
    },
    {
      "cell_type": "code",
      "execution_count": null,
      "metadata": {
        "id": "FN7OtyiIwwT7",
        "outputId": "d2051a6f-d8e6-492d-a512-7da3771b12d9"
      },
      "outputs": [
        {
          "name": "stdout",
          "output_type": "stream",
          "text": [
            "[0. 0. 0. 0. 0. 0. 0. 0. 0. 0.]\n",
            "Number of Non-Zeroes in Array --> 0\n"
          ]
        }
      ],
      "source": [
        "print(y_pred_roc[0][:10])\n",
        "print(f\"Number of Non-Zeroes in Array --> {np.count_nonzero(y_true_roc[0])}\")"
      ]
    },
    {
      "cell_type": "code",
      "execution_count": null,
      "metadata": {
        "id": "y5JUk4AvwwT7",
        "outputId": "b28c0971-c9b2-45a6-ac27-59badb780723"
      },
      "outputs": [
        {
          "name": "stdout",
          "output_type": "stream",
          "text": [
            "[0.         0.01447401 1.        ]\n",
            "[0. 1. 1.]\n",
            "[2. 1. 0.]\n"
          ]
        }
      ],
      "source": [
        "# lbl = y_true_0.cpu().numpy().reshape(-1)\n",
        "# target = y_pred_0.cpu().numpy().reshape(-1)\n",
        "# print(lbl.shape)\n",
        "# print(target.shape)\n",
        "\n",
        "from sklearn import metrics\n",
        "#y_true_roc = np.concatenate(y_true_roc, axis=0)\n",
        "#y_pred_roc = np.concatenate(y_pred_roc, axis=0)\n",
        "# print(y_pred_roc[0].shape)\n",
        "# print(y_true_roc[0].shape)\n",
        "#for idx in range(len(y_pred_0)):\n",
        "# copte the ROC curve\n",
        "fpr, tpr, thresholds = metrics.roc_curve(y_true_0, y_pred_0)\n",
        "print(fpr)\n",
        "print(tpr)\n",
        "print(thresholds)"
      ]
    },
    {
      "cell_type": "code",
      "execution_count": null,
      "metadata": {
        "id": "CqvAtJ9ZwwT7",
        "outputId": "1e8dd446-5aa8-4388-f9fc-e9fc4cef422c"
      },
      "outputs": [
        {
          "name": "stdout",
          "output_type": "stream",
          "text": [
            "0.992762994646983\n"
          ]
        }
      ],
      "source": [
        "from sklearn.metrics import roc_auc_score\n",
        "val_auc_mean = roc_auc_score(y_true_0, y_pred_0) \n",
        "print(val_auc_mean)"
      ]
    },
    {
      "cell_type": "code",
      "execution_count": null,
      "metadata": {
        "id": "WDGFYlLEwwT7",
        "outputId": "6a9b09ca-fd69-4ecc-c3a0-97e65cbed25d"
      },
      "outputs": [
        {
          "name": "stdout",
          "output_type": "stream",
          "text": [
            "(192, 224) (192, 224) (192, 224) (192, 224)\n"
          ]
        }
      ],
      "source": [
        "y_true_0_updated = y_true_0[10,:,:]\n",
        "y_true_1_updated = y_true_1[0,10,:,:]#.reshape((192,224,3))\n",
        "y_pred_0_updated = y_pred_0[10,:,:]\n",
        "y_pred_1_updated = y_pred_1[0,10,:,:]#.reshape((192,224,3))\n",
        "print(y_true_0_updated.shape, y_true_1_updated.shape, y_pred_0_updated.shape, y_pred_1_updated.shape)"
      ]
    },
    {
      "cell_type": "code",
      "execution_count": null,
      "metadata": {
        "id": "ToO3Z0gFwwT7",
        "outputId": "f61deb8f-1609-4087-fa1a-94d07172d39b"
      },
      "outputs": [
        {
          "data": {
            "image/png": "[encoded data removed]",
            "text/plain": [
              "<Figure size 1080x270 with 8 Axes>"
            ]
          },
          "metadata": {
            "needs_background": "light"
          },
          "output_type": "display_data"
        }
      ],
      "source": [
        "images = [y_true_0_updated,y_true_1_updated, y_pred_0_updated, y_pred_1_updated]\n",
        "\n",
        "ne.plot.slices(images, cmaps=['gray'], do_colorbars=True);\n"
      ]
    },
    {
      "cell_type": "code",
      "execution_count": null,
      "metadata": {
        "id": "xK1mHnnfwwT8",
        "outputId": "e9729fb5-5b5c-4139-edb0-956a6f74f158"
      },
      "outputs": [
        {
          "data": {
            "text/plain": [
              "(160, 192, 224)"
            ]
          },
          "execution_count": 27,
          "metadata": {},
          "output_type": "execute_result"
        }
      ],
      "source": [
        "inshape"
      ]
    },
    {
      "cell_type": "code",
      "execution_count": null,
      "metadata": {
        "id": "h5uClZdL2WIy"
      },
      "outputs": [],
      "source": [
        "# final model save\n",
        "model.save(os.path.join('C:/Users/soumi/Desktop/Deep Learning/Image registration Project/Voxelmorph_erroneous/', '%04d.pt' %args.epochs))\n",
        "#torch.save(model.state_dict(),'C:/Users/soumi/Desktop/Deep Learning/Image registration Project/Voxelmorph_erroneous/voxelmorph_trained')"
      ]
    },
    {
      "cell_type": "code",
      "execution_count": null,
      "metadata": {
        "id": "Pgmg11LXwwT8",
        "outputId": "bb5aea71-e3dc-4f2b-9920-0bed947f1e0b"
      },
      "outputs": [
        {
          "data": {
            "text/plain": [
              "VxmDense(\n",
              "  (unet_model): Unet(\n",
              "    (upsample): Upsample(scale_factor=2.0, mode=nearest)\n",
              "    (downarm): ModuleList(\n",
              "      (0): ConvBlock(\n",
              "        (main): Conv3d(2, 32, kernel_size=(3, 3, 3), stride=(2, 2, 2), padding=(1, 1, 1))\n",
              "        (activation): LeakyReLU(negative_slope=0.2)\n",
              "      )\n",
              "      (1): ConvBlock(\n",
              "        (main): Conv3d(32, 32, kernel_size=(3, 3, 3), stride=(2, 2, 2), padding=(1, 1, 1))\n",
              "        (activation): LeakyReLU(negative_slope=0.2)\n",
              "      )\n",
              "      (2): ConvBlock(\n",
              "        (main): Conv3d(32, 32, kernel_size=(3, 3, 3), stride=(2, 2, 2), padding=(1, 1, 1))\n",
              "        (activation): LeakyReLU(negative_slope=0.2)\n",
              "      )\n",
              "      (3): ConvBlock(\n",
              "        (main): Conv3d(32, 32, kernel_size=(3, 3, 3), stride=(2, 2, 2), padding=(1, 1, 1))\n",
              "        (activation): LeakyReLU(negative_slope=0.2)\n",
              "      )\n",
              "    )\n",
              "    (uparm): ModuleList(\n",
              "      (0): ConvBlock(\n",
              "        (main): Conv3d(32, 32, kernel_size=(3, 3, 3), stride=(1, 1, 1), padding=(1, 1, 1))\n",
              "        (activation): LeakyReLU(negative_slope=0.2)\n",
              "      )\n",
              "      (1): ConvBlock(\n",
              "        (main): Conv3d(64, 32, kernel_size=(3, 3, 3), stride=(1, 1, 1), padding=(1, 1, 1))\n",
              "        (activation): LeakyReLU(negative_slope=0.2)\n",
              "      )\n",
              "      (2): ConvBlock(\n",
              "        (main): Conv3d(64, 32, kernel_size=(3, 3, 3), stride=(1, 1, 1), padding=(1, 1, 1))\n",
              "        (activation): LeakyReLU(negative_slope=0.2)\n",
              "      )\n",
              "      (3): ConvBlock(\n",
              "        (main): Conv3d(64, 32, kernel_size=(3, 3, 3), stride=(1, 1, 1), padding=(1, 1, 1))\n",
              "        (activation): LeakyReLU(negative_slope=0.2)\n",
              "      )\n",
              "    )\n",
              "    (extras): ModuleList(\n",
              "      (0): ConvBlock(\n",
              "        (main): Conv3d(34, 32, kernel_size=(3, 3, 3), stride=(1, 1, 1), padding=(1, 1, 1))\n",
              "        (activation): LeakyReLU(negative_slope=0.2)\n",
              "      )\n",
              "      (1): ConvBlock(\n",
              "        (main): Conv3d(32, 16, kernel_size=(3, 3, 3), stride=(1, 1, 1), padding=(1, 1, 1))\n",
              "        (activation): LeakyReLU(negative_slope=0.2)\n",
              "      )\n",
              "    )\n",
              "  )\n",
              "  (flow): Conv3d(16, 3, kernel_size=(3, 3, 3), stride=(1, 1, 1), padding=(1, 1, 1))\n",
              "  (integrate): VecInt(\n",
              "    (transformer): SpatialTransformer()\n",
              "  )\n",
              "  (transformer): SpatialTransformer()\n",
              ")"
            ]
          },
          "execution_count": 29,
          "metadata": {},
          "output_type": "execute_result"
        }
      ],
      "source": [
        "#model = vxm.networks.VxmDense(inshape=inshape,nb_unet_features=[enc_nf, dec_nf],bidir=bidir,int_downsize=args.int_downsize)\n",
        "model_test = vxm.networks.VxmDense.load('C:/Users/soumi/Desktop/Deep Learning/Image registration Project/Voxelmorph_erroneous/0001.pt', device)\n",
        "model.to(device)\n",
        "model.eval()"
      ]
    },
    {
      "cell_type": "code",
      "execution_count": null,
      "metadata": {
        "id": "Uz-DEqXHwwT8"
      },
      "outputs": [],
      "source": [
        "moving = vxm.py.utils.load_volfile('C:/Users/soumi/Desktop/Deep Learning/Image registration Project/Voxelmorph_erroneous/seg.npy', add_batch_axis=True, add_feat_axis=add_feat_axis)\n",
        "fixed, fixed_affine = vxm.py.utils.load_volfile(\n",
        "    'C:/Users/soumi/Desktop/Deep Learning/Image registration Project/Voxelmorph_erroneous/vol.npy', add_batch_axis=True, add_feat_axis=add_feat_axis, ret_affine=True)\n"
      ]
    },
    {
      "cell_type": "code",
      "execution_count": null,
      "metadata": {
        "id": "TORERihZwwT8"
      },
      "outputs": [],
      "source": [
        "input_moving = torch.from_numpy(moving).to(device).float().permute(0, 4, 1, 2, 3)\n",
        "input_fixed = torch.from_numpy(fixed).to(device).float().permute(0, 4, 1, 2, 3)"
      ]
    },
    {
      "cell_type": "code",
      "execution_count": null,
      "metadata": {
        "id": "aleY7ZVSwwT8"
      },
      "outputs": [],
      "source": [
        "moved, warp = model(input_moving, input_fixed, registration=True)"
      ]
    },
    {
      "cell_type": "code",
      "execution_count": null,
      "metadata": {
        "id": "MLpz6kxMwwT8"
      },
      "outputs": [],
      "source": [
        "moved = moved.detach().cpu().numpy().squeeze()\n",
        "warp = warp.detach().cpu().numpy().squeeze()"
      ]
    },
    {
      "cell_type": "code",
      "execution_count": null,
      "metadata": {
        "id": "ap0cOjKjwwT8",
        "outputId": "4bd904ea-f7b6-4b59-b85b-36b2fd8f00c5"
      },
      "outputs": [
        {
          "name": "stdout",
          "output_type": "stream",
          "text": [
            "(1, 160, 192, 224, 1) (1, 160, 192, 224, 1) (160, 192, 224) (3, 160, 192, 224)\n",
            "(160, 192, 224) (160, 192, 224) (160, 192, 224) (160, 192, 224)\n"
          ]
        }
      ],
      "source": [
        "print(moving.shape,fixed.shape,moved.shape,warp.shape)\n",
        "moving_updated = moving[0,:,:,:,0]\n",
        "fixed_updated = fixed[0,:,:,:,0]\n",
        "moved_updated = moved[:,:,:]\n",
        "warp_updated = warp[0,:,:,:]\n",
        "print(moving_updated.shape, fixed_updated.shape,moved_updated.shape,warp_updated.shape)"
      ]
    },
    {
      "cell_type": "code",
      "execution_count": null,
      "metadata": {
        "id": "kOKPQTBcwwT9",
        "outputId": "7f47b197-a247-4892-ff6f-267907a9ee1d"
      },
      "outputs": [
        {
          "name": "stdout",
          "output_type": "stream",
          "text": [
            "4\n"
          ]
        }
      ],
      "source": [
        "images = [ moving_updated[134] , fixed_updated[134] , moved_updated[134] , warp_updated[134]] \n",
        "print(len(images))"
      ]
    },
    {
      "cell_type": "code",
      "execution_count": null,
      "metadata": {
        "id": "UADoe8S6wwT9",
        "outputId": "3ab56000-eb3c-43e8-9da0-f48bbe6153f1"
      },
      "outputs": [
        {
          "data": {
            "image/png": "[encoded data removed]",
            "text/plain": [
              "<Figure size 1080x270 with 8 Axes>"
            ]
          },
          "metadata": {
            "needs_background": "light"
          },
          "output_type": "display_data"
        }
      ],
      "source": [
        "#images = [img for img in moving_updated + fixed_updated + moved_updated + warp_updated] \n",
        "titles = ['moving', 'fixed', 'moved', 'flow']\n",
        "ne.plot.slices(images,titles=titles, cmaps=['gray'], do_colorbars=True);"
      ]
    },
    {
      "cell_type": "code",
      "execution_count": null,
      "metadata": {
        "id": "RUmIh6a2wwT9"
      },
      "outputs": [],
      "source": [
        "val_generator = vxm.generators.scan_to_scan(\n",
        "    train_files, batch_size=args.batch_size, bidir=args.bidir, add_feat_axis=add_feat_axis)\n",
        "val_input, _ = next(val_generator)"
      ]
    },
    {
      "cell_type": "code",
      "execution_count": null,
      "metadata": {
        "id": "B7nEJFJAwwT9",
        "outputId": "eeedab96-4efe-4b5c-db6c-9dd4f67a22d3"
      },
      "outputs": [
        {
          "name": "stdout",
          "output_type": "stream",
          "text": [
            "2\n",
            "(1, 160, 192, 224, 1)\n"
          ]
        }
      ],
      "source": [
        "print(len(val_input))\n",
        "print(val_input[0].shape)"
      ]
    },
    {
      "cell_type": "code",
      "execution_count": null,
      "metadata": {
        "id": "5rDUoRjVwwT9",
        "outputId": "b9e1a7cf-b6d3-46d6-afcf-a08f0e14d403"
      },
      "outputs": [
        {
          "ename": "TypeError",
          "evalue": "eval() takes 1 positional argument but 2 were given",
          "output_type": "error",
          "traceback": [
            "\u001b[1;31m---------------------------------------------------------------------------\u001b[0m",
            "\u001b[1;31mTypeError\u001b[0m                                 Traceback (most recent call last)",
            "\u001b[1;32m~\\AppData\\Local\\Temp/ipykernel_9492/37622064.py\u001b[0m in \u001b[0;36m<module>\u001b[1;34m\u001b[0m\n\u001b[1;32m----> 1\u001b[1;33m \u001b[0mval_pred\u001b[0m \u001b[1;33m=\u001b[0m \u001b[0mmodel_test\u001b[0m\u001b[1;33m.\u001b[0m\u001b[0meval\u001b[0m\u001b[1;33m(\u001b[0m\u001b[0mval_input\u001b[0m\u001b[1;33m[\u001b[0m\u001b[1;36m0\u001b[0m\u001b[1;33m]\u001b[0m\u001b[1;33m)\u001b[0m\u001b[1;33m\u001b[0m\u001b[1;33m\u001b[0m\u001b[0m\n\u001b[0m",
            "\u001b[1;31mTypeError\u001b[0m: eval() takes 1 positional argument but 2 were given"
          ]
        }
      ],
      "source": [
        "val_pred = model_test.eval(val_input[0])"
      ]
    },
    {
      "cell_type": "code",
      "execution_count": null,
      "metadata": {
        "id": "qeUb8W-nh5lB",
        "outputId": "fa4f0000-f3d6-45c4-a8a0-916256636417"
      },
      "outputs": [
        {
          "name": "stdout",
          "output_type": "stream",
          "text": [
            "2 torch.Size([1, 1, 160, 192, 224])\n",
            "2 torch.Size([1, 1, 160, 192, 224])\n"
          ]
        }
      ],
      "source": [
        "print(len(y_true),y_true[0].shape)\n",
        "print(len(y_pred),y_pred[0].shape)"
      ]
    }
  ],
  "metadata": {
    "colab": {
      "collapsed_sections": [],
      "name": "VoxelMorph_pytorch.ipynb",
      "provenance": [],
      "include_colab_link": true
    },
    "interpreter": {
      "hash": "59c044a87e1f668e3b32a297cf90871065abd419b50d216c111927f605b4cfd8"
    },
    "kernelspec": {
      "display_name": "Python 3.9.7 64-bit",
      "language": "python",
      "name": "python3"
    },
    "language_info": {
      "codemirror_mode": {
        "name": "ipython",
        "version": 3
      },
      "file_extension": ".py",
      "mimetype": "text/x-python",
      "name": "python",
      "nbconvert_exporter": "python",
      "pygments_lexer": "ipython3",
      "version": "3.9.7"
    },
    "accelerator": "GPU"
  },
  "nbformat": 4,
  "nbformat_minor": 0
}